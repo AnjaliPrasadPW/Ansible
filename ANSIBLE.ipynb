{
  "nbformat": 4,
  "nbformat_minor": 0,
  "metadata": {
    "colab": {
      "provenance": []
    },
    "kernelspec": {
      "name": "python3",
      "display_name": "Python 3"
    },
    "language_info": {
      "name": "python"
    }
  },
  "cells": [
    {
      "cell_type": "markdown",
      "source": [
        "Q. 1. Install and configure Ansible, Puppet, or Chef on a local or cloud environment. Write and execute basic configuration scripts ?\n",
        "\n",
        "ANWSER--\n",
        "\n",
        "1. Install and Configure Ansible (on Ubuntu EC2 or Local Linux)\n",
        "\n",
        "A. Prerequisites:\n",
        "\n",
        "Ubuntu/Debian-based system (local or AWS EC2)\n",
        "\n",
        "SSH access\n",
        "\n",
        "Python 3 installed (default on Ubuntu)\n",
        "\n",
        "B. Install Ansible:\n",
        "\n",
        "sudo apt update\n",
        "sudo apt install ansible -y\n",
        "ansible --version\n",
        "2. Set Up Ansible Inventory File\n",
        "\n",
        "sudo nano /etc/ansible/hosts\n",
        "Add your managed node (another EC2 IP or localhost for demo):\n",
        "\n",
        "[webservers]\n",
        "ec2-3-871-62-265.ap-south-1.compute.amazonaws.com ansible_user=ubuntu ansible_ssh_private_key_file=~/path/key.pem\n",
        "\n",
        "ec2-3-203-50-313.ap-south-1.compute.amazonaws.com ansible_user=ubuntu ansible_ssh_private_key_file=~/path/key.pem\n",
        "\n",
        "3. Write and Execute Basic Configuration Scripts.\n",
        "\n",
        "A. Example Playbook – install_apache.yml\n",
        "\n",
        "This playbook installs Apache on the local/remote machine:"
      ],
      "metadata": {
        "id": "9asSPuRwdbcA"
      }
    },
    {
      "cell_type": "code",
      "source": [
        "\n",
        "# install_apache.yml\n",
        "---\n",
        "- name: Install Apache on Web Server\n",
        "  hosts: webservers\n",
        "  become: yes\n",
        "\n",
        "  tasks:\n",
        "    - name: Update APT cache\n",
        "      apt:\n",
        "        update_cache: yes\n",
        "\n",
        "    - name: Install Apache2\n",
        "      apt:\n",
        "        name: apache2\n",
        "        state: present\n",
        "\n",
        "    - name: Ensure Apache is running\n",
        "      service:\n",
        "        name: apache2\n",
        "        state: started\n",
        "        enabled: yes"
      ],
      "metadata": {
        "id": "Wkj5isvXd-kq"
      },
      "execution_count": null,
      "outputs": []
    },
    {
      "cell_type": "markdown",
      "source": [
        "B. Run the Playbook\n",
        "\n",
        "ansible-playbook install_apache.yml\n",
        "4. Test Apache: After running the Playbook go in EC2 and run this command to check the apache is successfully install or not.\n",
        "\n",
        "curl http://localhost"
      ],
      "metadata": {
        "id": "TzJoSjupeB7J"
      }
    }
  ]
}